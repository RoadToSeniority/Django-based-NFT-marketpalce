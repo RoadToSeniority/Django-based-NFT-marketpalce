{
 "cells": [
  {
   "cell_type": "code",
   "execution_count": 11,
   "metadata": {},
   "outputs": [
    {
     "ename": "SyntaxError",
     "evalue": "(unicode error) 'unicodeescape' codec can't decode bytes in position 45-46: malformed \\N character escape (855264762.py, line 2)",
     "output_type": "error",
     "traceback": [
      "\u001b[1;36m  Input \u001b[1;32mIn [11]\u001b[1;36m\u001b[0m\n\u001b[1;33m    sys.path.append(\"D:\\coding journy\\Django-based-NFT-marketpalce\\NFT\")\u001b[0m\n\u001b[1;37m                                                                       ^\u001b[0m\n\u001b[1;31mSyntaxError\u001b[0m\u001b[1;31m:\u001b[0m (unicode error) 'unicodeescape' codec can't decode bytes in position 45-46: malformed \\N character escape\n"
     ]
    }
   ],
   "source": [
    "import sys\n",
    "sys.path.append(\"D:\\\\coding journy\\\\Django-based-NFT-marketpalce\\\\NFT\")\n",
    "from models import NFT\n",
    "nft = NFT()\n",
    "print(dir(nft))"
   ]
  }
 ],
 "metadata": {
  "kernelspec": {
   "display_name": "Python 3 (ipykernel)",
   "language": "python",
   "name": "python3"
  },
  "language_info": {
   "codemirror_mode": {
    "name": "ipython",
    "version": 3
   },
   "file_extension": ".py",
   "mimetype": "text/x-python",
   "name": "python",
   "nbconvert_exporter": "python",
   "pygments_lexer": "ipython3",
   "version": "3.10.6"
  },
  "vscode": {
   "interpreter": {
    "hash": "7484561e74ef19bb8a97a15c8da58e0a6ac9786a911a9c07cc2c4cd5bbbb7373"
   }
  }
 },
 "nbformat": 4,
 "nbformat_minor": 2
}
